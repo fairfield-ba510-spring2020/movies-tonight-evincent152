{
 "cells": [
  {
   "cell_type": "markdown",
   "metadata": {},
   "source": [
    "# Movies Tonight Part 3: SQL DML"
   ]
  },
  {
   "cell_type": "code",
   "execution_count": 1,
   "metadata": {},
   "outputs": [
    {
     "data": {
      "text/plain": [
       "'Connected: @Movies.db'"
      ]
     },
     "execution_count": 1,
     "metadata": {},
     "output_type": "execute_result"
    }
   ],
   "source": [
    "%load_ext sql\n",
    "%sql sqlite:///Movies.db"
   ]
  },
  {
   "cell_type": "markdown",
   "metadata": {},
   "source": [
    "1. **Load the `DATASET.csv` file into the `Movies.db` database.**  \n",
    "    - Import the CSV file to create a new table called `DATASET`. Follow the example [here](http://www.sqlitetutorial.net/sqlite-import-csv/).\n",
    "    - Use a [`PRAGMA table-info` pseudo-query](https://www.sqlite.org/pragma.html#pragma_table_info) to inspect the design of the new table. [How are we going to handle dates](https://www.sqlite.org/datatype3.html)?"
   ]
  },
  {
   "cell_type": "markdown",
   "metadata": {},
   "source": [
    "Remember!\n",
    "- use this to get data from csv file- open terminal - sqlite3 Movies.db - follow \"here\" link\n",
    "- .table will give list of tables- can check for duplicates!!\n",
    "- PRAGMA will give metadata"
   ]
  },
  {
   "cell_type": "code",
   "execution_count": 3,
   "metadata": {},
   "outputs": [
    {
     "name": "stdout",
     "output_type": "stream",
     "text": [
      " * sqlite:///Movies.db\n",
      "(sqlite3.OperationalError) no such table: DATASET\n",
      "[SQL: SELECT * FROM DATASET LIMIT 10;]\n",
      "(Background on this error at: http://sqlalche.me/e/e3q8)\n"
     ]
    }
   ],
   "source": [
    "%%sql\n",
    "\n",
    "SELECT * FROM DATASET LIMIT 10\n",
    "PRAGMA table_info(DATASET);"
   ]
  },
  {
   "cell_type": "markdown",
   "metadata": {},
   "source": [
    "2. **Populate the tables with data.**  \n",
    "\n",
    "    - Use `INSERT ... SELECT ...` queries to extract data from `DATASET` for each table of your other tables. \n",
    "    - Start with the strong entities before moving on to the weak ones. Be sure to always select distinct     values. \n",
    "    - Foreign Keys get special treatment. You will have to use JOINs to pick up the PKs from the other side of the relationships. (As in Part 1, use the fact that movie names, theater names, and people names are always unique in our source data. That way you can use then for the JOIN columns. \n",
    "    - If you have to start over, then rerun your DDL queries from Part 2. "
   ]
  },
  {
   "cell_type": "code",
   "execution_count": null,
   "metadata": {},
   "outputs": [],
   "source": [
    "%%sql\n",
    "\n",
    "DELETE FROM MOVIES;\n",
    "SELECT DISTINCT MTitle, Rating FROM DATASET\n",
    "LIMIT 10;"
   ]
  },
  {
   "cell_type": "markdown",
   "metadata": {},
   "source": [
    "lets insert into the table!\n",
    "REMEMBER: INSERT INTO table (part 2 titles)\n",
    "          SELECT DISTINCT (columns from DATASET)\n",
    "Shows- joining the other two tables to retrieve data for the shows table"
   ]
  },
  {
   "cell_type": "code",
   "execution_count": null,
   "metadata": {},
   "outputs": [],
   "source": [
    "%%sql\n",
    "\n",
    "DELETE FROM Movies;\n",
    "INSERT INTO Movies (Title, Rating)\n",
    "    SELECT DISTINCT MTitle, Rating FROM DATASET;\n",
    "SELECT * FROM MOVIES;"
   ]
  },
  {
   "cell_type": "code",
   "execution_count": null,
   "metadata": {},
   "outputs": [],
   "source": [
    "%%sql\n",
    "DELETE FROM Theaters;\n",
    "INSERT INTO Theaters (Name, Location, Phone)\n",
    "    SELECT DISTINCT TName, Location, Phone FROM DATASET;\n",
    "SELECT * FROM Theaters;"
   ]
  },
  {
   "cell_type": "code",
   "execution_count": null,
   "metadata": {},
   "outputs": [],
   "source": [
    "%%sql\n",
    "DELETE FROM Artists;\n",
    "INSERT INTO Artists (Name)\n",
    "    SELECT DISTINCT CName FROM DATASET;\n",
    "SELECT * FROM Artists\n",
    "LIMIT 10;"
   ]
  },
  {
   "cell_type": "code",
   "execution_count": null,
   "metadata": {},
   "outputs": [],
   "source": [
    "%%sql\n",
    "DELETE FROM Shows;\n",
    "INSERT INTO Shows (ShowTime, MID, TID)\n",
    "    SELECT DISTINCT DATASET.ShowTime, MOVIES.MID, THEATERS.TID\n",
    "    FROM DATASET\n",
    "        JOIN MOVIES ON (MOVIES.Title = DATASET.MTitle)\n",
    "        JOIN THEATERS ON (THEATERS.Name = DATASET.TName);\n",
    "SELECT ShowTime, Title, Name FROM Shows JOIN Movies USING (MID) JOIN Theaters USING (TID)\n",
    "LIMIT 10;"
   ]
  },
  {
   "cell_type": "code",
   "execution_count": null,
   "metadata": {},
   "outputs": [],
   "source": [
    "%%sql\n",
    "DELETE FROM Credit;\n",
    "INSERT INTO Credit (CCode, MID, AID)\n",
    "    SELECT DISTINCT DATASET.CCode, MOVIES.MID, ARTISTS.AID\n",
    "    FROM DATASET\n",
    "        JOIN ARTISTS ON (ARTISTS.NAME = DATASET.CName)\n",
    "        JOIN MOVIES ON (MOVIES.Title = DATASET.MTitle);\n",
    "SELECT * FROM CREDIT;"
   ]
  },
  {
   "cell_type": "markdown",
   "metadata": {},
   "source": [
    "3. **Check your work.**  \n",
    "There are 9 theaters, 23 movies, 152 artists, 131 shows, and 161 credits."
   ]
  },
  {
   "cell_type": "code",
   "execution_count": null,
   "metadata": {},
   "outputs": [],
   "source": [
    "# checked in cells above"
   ]
  },
  {
   "cell_type": "markdown",
   "metadata": {},
   "source": [
    "4. **Now check the source data.**  \n",
    "There are actually 13 duplicate rows in the original source data! Can you spot them? Write a SQL query that counts how many times each (MTitle, TName, Showtime, CCode, and CName) appears. Which ones appear more than once?"
   ]
  },
  {
   "cell_type": "code",
   "execution_count": null,
   "metadata": {},
   "outputs": [],
   "source": [
    "%%sql\n",
    "/* Found using https://chartio.com/learn/databases/how-to-find-duplicate-values-in-a-sql-table/ */\n",
    "    \n",
    "SELECT MTitle, TName, Showtime, CCode, CName, COUNT(*) occurrences\n",
    "FROM DATASET\n",
    "GROUP BY MTitle, TName, Showtime, CCode, CName\n",
    "HAVING \n",
    "    COUNT(*) > 1;"
   ]
  },
  {
   "cell_type": "markdown",
   "metadata": {},
   "source": [
    "5. **Drop the `DATASET` table.**  \n",
    "We don't need it anymore. "
   ]
  },
  {
   "cell_type": "code",
   "execution_count": null,
   "metadata": {},
   "outputs": [],
   "source": [
    "%%sql\n",
    "DROP TABLE IF EXISTS DATASET"
   ]
  },
  {
   "cell_type": "markdown",
   "metadata": {},
   "source": [
    "6. **Save, commit, and push your work to GitHub.**  \n",
    "Use the commit summary comment \"Completed Part 3\"."
   ]
  },
  {
   "cell_type": "code",
   "execution_count": null,
   "metadata": {},
   "outputs": [],
   "source": []
  }
 ],
 "metadata": {
  "kernelspec": {
   "display_name": "Python 3",
   "language": "python",
   "name": "python3"
  },
  "language_info": {
   "codemirror_mode": {
    "name": "ipython",
    "version": 3
   },
   "file_extension": ".py",
   "mimetype": "text/x-python",
   "name": "python",
   "nbconvert_exporter": "python",
   "pygments_lexer": "ipython3",
   "version": "3.6.7"
  }
 },
 "nbformat": 4,
 "nbformat_minor": 2
}
