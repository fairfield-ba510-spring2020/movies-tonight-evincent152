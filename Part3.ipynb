{
 "cells": [
  {
   "cell_type": "markdown",
   "metadata": {},
   "source": [
    "# Movies Tonight Part 3: SQL DML"
   ]
  },
  {
   "cell_type": "code",
   "execution_count": 1,
   "metadata": {},
   "outputs": [
    {
     "data": {
      "text/plain": [
       "'Connected: @Movies.db'"
      ]
     },
     "execution_count": 1,
     "metadata": {},
     "output_type": "execute_result"
    }
   ],
   "source": [
    "%load_ext sql\n",
    "%sql sqlite:///Movies.db"
   ]
  },
  {
   "cell_type": "markdown",
   "metadata": {},
   "source": [
    "1. **Load the `DATASET.csv` file into the `Movies.db` database.**  \n",
    "    - Import the CSV file to create a new table called `DATASET`. Follow the example [here](http://www.sqlitetutorial.net/sqlite-import-csv/).\n",
    "    - Use a [`PRAGMA table-info` pseudo-query](https://www.sqlite.org/pragma.html#pragma_table_info) to inspect the design of the new table. [How are we going to handle dates](https://www.sqlite.org/datatype3.html)?"
   ]
  },
  {
   "cell_type": "markdown",
   "metadata": {},
   "source": [
    "Remember!\n",
    "- use this to get data from csv file- open terminal - sqlite3 Movies.db - follow \"here\" link\n",
    "- .table will give list of tables- can check for duplicates!!\n",
    "- PRAGMA will give metadata"
   ]
  },
  {
   "cell_type": "code",
   "execution_count": 11,
   "metadata": {},
   "outputs": [
    {
     "name": "stdout",
     "output_type": "stream",
     "text": [
      " * sqlite:///Movies.db\n",
      "Done.\n",
      "Done.\n"
     ]
    },
    {
     "data": {
      "text/html": [
       "<table>\n",
       "    <tr>\n",
       "        <th>cid</th>\n",
       "        <th>name</th>\n",
       "        <th>type</th>\n",
       "        <th>notnull</th>\n",
       "        <th>dflt_value</th>\n",
       "        <th>pk</th>\n",
       "    </tr>\n",
       "    <tr>\n",
       "        <td>0</td>\n",
       "        <td>TName</td>\n",
       "        <td>TEXT</td>\n",
       "        <td>0</td>\n",
       "        <td>None</td>\n",
       "        <td>0</td>\n",
       "    </tr>\n",
       "    <tr>\n",
       "        <td>1</td>\n",
       "        <td>Location</td>\n",
       "        <td>TEXT</td>\n",
       "        <td>0</td>\n",
       "        <td>None</td>\n",
       "        <td>0</td>\n",
       "    </tr>\n",
       "    <tr>\n",
       "        <td>2</td>\n",
       "        <td>Phone</td>\n",
       "        <td>TEXT</td>\n",
       "        <td>0</td>\n",
       "        <td>None</td>\n",
       "        <td>0</td>\n",
       "    </tr>\n",
       "    <tr>\n",
       "        <td>3</td>\n",
       "        <td>MTitle</td>\n",
       "        <td>TEXT</td>\n",
       "        <td>0</td>\n",
       "        <td>None</td>\n",
       "        <td>0</td>\n",
       "    </tr>\n",
       "    <tr>\n",
       "        <td>4</td>\n",
       "        <td>ShowTime</td>\n",
       "        <td>TEXT</td>\n",
       "        <td>0</td>\n",
       "        <td>None</td>\n",
       "        <td>0</td>\n",
       "    </tr>\n",
       "    <tr>\n",
       "        <td>5</td>\n",
       "        <td>Rating</td>\n",
       "        <td>TEXT</td>\n",
       "        <td>0</td>\n",
       "        <td>None</td>\n",
       "        <td>0</td>\n",
       "    </tr>\n",
       "    <tr>\n",
       "        <td>6</td>\n",
       "        <td>CCode</td>\n",
       "        <td>TEXT</td>\n",
       "        <td>0</td>\n",
       "        <td>None</td>\n",
       "        <td>0</td>\n",
       "    </tr>\n",
       "    <tr>\n",
       "        <td>7</td>\n",
       "        <td>CName</td>\n",
       "        <td>TEXT</td>\n",
       "        <td>0</td>\n",
       "        <td>None</td>\n",
       "        <td>0</td>\n",
       "    </tr>\n",
       "</table>"
      ],
      "text/plain": [
       "[(0, 'TName', 'TEXT', 0, None, 0),\n",
       " (1, 'Location', 'TEXT', 0, None, 0),\n",
       " (2, 'Phone', 'TEXT', 0, None, 0),\n",
       " (3, 'MTitle', 'TEXT', 0, None, 0),\n",
       " (4, 'ShowTime', 'TEXT', 0, None, 0),\n",
       " (5, 'Rating', 'TEXT', 0, None, 0),\n",
       " (6, 'CCode', 'TEXT', 0, None, 0),\n",
       " (7, 'CName', 'TEXT', 0, None, 0)]"
      ]
     },
     "execution_count": 11,
     "metadata": {},
     "output_type": "execute_result"
    }
   ],
   "source": [
    "%%sql\n",
    "\n",
    "SELECT * FROM DATASET LIMIT 10;\n",
    "PRAGMA table_info(DATASET);"
   ]
  },
  {
   "cell_type": "markdown",
   "metadata": {},
   "source": [
    "2. **Populate the tables with data.**  \n",
    "\n",
    "    - Use `INSERT ... SELECT ...` queries to extract data from `DATASET` for each table of your other tables. \n",
    "    - Start with the strong entities before moving on to the weak ones. Be sure to always select distinct     values. \n",
    "    - Foreign Keys get special treatment. You will have to use JOINs to pick up the PKs from the other side of the relationships. (As in Part 1, use the fact that movie names, theater names, and people names are always unique in our source data. That way you can use then for the JOIN columns. \n",
    "    - If you have to start over, then rerun your DDL queries from Part 2. "
   ]
  },
  {
   "cell_type": "code",
   "execution_count": 8,
   "metadata": {},
   "outputs": [
    {
     "name": "stdout",
     "output_type": "stream",
     "text": [
      " * sqlite:///Movies.db\n",
      "0 rows affected.\n",
      "Done.\n"
     ]
    },
    {
     "data": {
      "text/html": [
       "<table>\n",
       "    <tr>\n",
       "        <th>MTitle</th>\n",
       "        <th>Rating</th>\n",
       "    </tr>\n",
       "    <tr>\n",
       "        <td>Associate, The</td>\n",
       "        <td>PG-13</td>\n",
       "    </tr>\n",
       "    <tr>\n",
       "        <td>Ghost &amp; The Darkness, The</td>\n",
       "        <td>R</td>\n",
       "    </tr>\n",
       "    <tr>\n",
       "        <td>Independence Day</td>\n",
       "        <td>PG-13</td>\n",
       "    </tr>\n",
       "    <tr>\n",
       "        <td>D3: The Mighty Ducks</td>\n",
       "        <td>PG</td>\n",
       "    </tr>\n",
       "    <tr>\n",
       "        <td>Dear God</td>\n",
       "        <td></td>\n",
       "    </tr>\n",
       "    <tr>\n",
       "        <td>First Wives Club, The</td>\n",
       "        <td>PG-13</td>\n",
       "    </tr>\n",
       "    <tr>\n",
       "        <td>High School High</td>\n",
       "        <td>PG-13</td>\n",
       "    </tr>\n",
       "    <tr>\n",
       "        <td>Larger Than Life</td>\n",
       "        <td>PG</td>\n",
       "    </tr>\n",
       "    <tr>\n",
       "        <td>Mirror Has Two Faces, The</td>\n",
       "        <td>PG-13</td>\n",
       "    </tr>\n",
       "    <tr>\n",
       "        <td>Ransom</td>\n",
       "        <td>R</td>\n",
       "    </tr>\n",
       "    <tr>\n",
       "        <td>Sleepers</td>\n",
       "        <td></td>\n",
       "    </tr>\n",
       "    <tr>\n",
       "        <td>Space Jam</td>\n",
       "        <td>PG</td>\n",
       "    </tr>\n",
       "    <tr>\n",
       "        <td>Stephen King&#x27;s Thinner</td>\n",
       "        <td></td>\n",
       "    </tr>\n",
       "    <tr>\n",
       "        <td>Michael Collins</td>\n",
       "        <td>R</td>\n",
       "    </tr>\n",
       "    <tr>\n",
       "        <td>Romeo &amp; Juliet</td>\n",
       "        <td>R</td>\n",
       "    </tr>\n",
       "    <tr>\n",
       "        <td>Big Night</td>\n",
       "        <td>R</td>\n",
       "    </tr>\n",
       "    <tr>\n",
       "        <td>Fly Away Home</td>\n",
       "        <td>PG</td>\n",
       "    </tr>\n",
       "    <tr>\n",
       "        <td>Nutty Professor, The</td>\n",
       "        <td>PG-13</td>\n",
       "    </tr>\n",
       "    <tr>\n",
       "        <td>Phenomenon</td>\n",
       "        <td>PG</td>\n",
       "    </tr>\n",
       "    <tr>\n",
       "        <td>Set It Off</td>\n",
       "        <td>R</td>\n",
       "    </tr>\n",
       "    <tr>\n",
       "        <td>Surviving Picasso</td>\n",
       "        <td>R</td>\n",
       "    </tr>\n",
       "    <tr>\n",
       "        <td>Very Brady Sequel, A</td>\n",
       "        <td>PG-13</td>\n",
       "    </tr>\n",
       "    <tr>\n",
       "        <td>That Thing You Do</td>\n",
       "        <td>PG</td>\n",
       "    </tr>\n",
       "</table>"
      ],
      "text/plain": [
       "[('Associate, The', 'PG-13'),\n",
       " ('Ghost & The Darkness, The', 'R'),\n",
       " ('Independence Day', 'PG-13'),\n",
       " ('D3: The Mighty Ducks', 'PG'),\n",
       " ('Dear God', ''),\n",
       " ('First Wives Club, The', 'PG-13'),\n",
       " ('High School High', 'PG-13'),\n",
       " ('Larger Than Life', 'PG'),\n",
       " ('Mirror Has Two Faces, The', 'PG-13'),\n",
       " ('Ransom', 'R'),\n",
       " ('Sleepers', ''),\n",
       " ('Space Jam', 'PG'),\n",
       " (\"Stephen King's Thinner\", ''),\n",
       " ('Michael Collins', 'R'),\n",
       " ('Romeo & Juliet', 'R'),\n",
       " ('Big Night', 'R'),\n",
       " ('Fly Away Home', 'PG'),\n",
       " ('Nutty Professor, The', 'PG-13'),\n",
       " ('Phenomenon', 'PG'),\n",
       " ('Set It Off', 'R'),\n",
       " ('Surviving Picasso', 'R'),\n",
       " ('Very Brady Sequel, A', 'PG-13'),\n",
       " ('That Thing You Do', 'PG')]"
      ]
     },
     "execution_count": 8,
     "metadata": {},
     "output_type": "execute_result"
    }
   ],
   "source": [
    "%%sql\n",
    "\n",
    "DELETE FROM MOVIES;\n",
    "SELECT DISTINCT MTitle, Rating FROM DATASET;"
   ]
  },
  {
   "cell_type": "markdown",
   "metadata": {},
   "source": [
    "lets insert into the table!\n",
    "REMEMBER: INSERT INTO table (part 2 titles)\n",
    "          SELECT DISTINCT (columns from DATASET)\n",
    "Shows- joining the other two tables to retrieve data for the shows table"
   ]
  },
  {
   "cell_type": "code",
   "execution_count": 29,
   "metadata": {},
   "outputs": [
    {
     "name": "stdout",
     "output_type": "stream",
     "text": [
      " * sqlite:///Movies.db\n",
      "23 rows affected.\n",
      "23 rows affected.\n",
      "Done.\n",
      "9 rows affected.\n",
      "9 rows affected.\n",
      "Done.\n",
      "153 rows affected.\n",
      "153 rows affected.\n",
      "Done.\n",
      "131 rows affected.\n",
      "131 rows affected.\n",
      "Done.\n",
      "162 rows affected.\n",
      "162 rows affected.\n",
      "Done.\n"
     ]
    },
    {
     "data": {
      "text/html": [
       "<table>\n",
       "    <tr>\n",
       "        <th>CID</th>\n",
       "        <th>AID</th>\n",
       "        <th>MID</th>\n",
       "        <th>CCode</th>\n",
       "    </tr>\n",
       "    <tr>\n",
       "        <td>1</td>\n",
       "        <td>1</td>\n",
       "        <td>1</td>\n",
       "        <td>A</td>\n",
       "    </tr>\n",
       "    <tr>\n",
       "        <td>2</td>\n",
       "        <td>1</td>\n",
       "        <td>2</td>\n",
       "        <td>A</td>\n",
       "    </tr>\n",
       "    <tr>\n",
       "        <td>3</td>\n",
       "        <td>1</td>\n",
       "        <td>3</td>\n",
       "        <td>A</td>\n",
       "    </tr>\n",
       "    <tr>\n",
       "        <td>4</td>\n",
       "        <td>1</td>\n",
       "        <td>4</td>\n",
       "        <td>A</td>\n",
       "    </tr>\n",
       "    <tr>\n",
       "        <td>5</td>\n",
       "        <td>1</td>\n",
       "        <td>5</td>\n",
       "        <td>A</td>\n",
       "    </tr>\n",
       "    <tr>\n",
       "        <td>6</td>\n",
       "        <td>1</td>\n",
       "        <td>6</td>\n",
       "        <td>A</td>\n",
       "    </tr>\n",
       "    <tr>\n",
       "        <td>7</td>\n",
       "        <td>1</td>\n",
       "        <td>7</td>\n",
       "        <td>A</td>\n",
       "    </tr>\n",
       "    <tr>\n",
       "        <td>8</td>\n",
       "        <td>1</td>\n",
       "        <td>8</td>\n",
       "        <td>A</td>\n",
       "    </tr>\n",
       "    <tr>\n",
       "        <td>9</td>\n",
       "        <td>1</td>\n",
       "        <td>9</td>\n",
       "        <td>D</td>\n",
       "    </tr>\n",
       "    <tr>\n",
       "        <td>10</td>\n",
       "        <td>2</td>\n",
       "        <td>10</td>\n",
       "        <td>A</td>\n",
       "    </tr>\n",
       "</table>"
      ],
      "text/plain": [
       "[(1, 1, 1, 'A'),\n",
       " (2, 1, 2, 'A'),\n",
       " (3, 1, 3, 'A'),\n",
       " (4, 1, 4, 'A'),\n",
       " (5, 1, 5, 'A'),\n",
       " (6, 1, 6, 'A'),\n",
       " (7, 1, 7, 'A'),\n",
       " (8, 1, 8, 'A'),\n",
       " (9, 1, 9, 'D'),\n",
       " (10, 2, 10, 'A')]"
      ]
     },
     "execution_count": 29,
     "metadata": {},
     "output_type": "execute_result"
    }
   ],
   "source": [
    "%%sql\n",
    "\n",
    "DELETE FROM Movies;\n",
    "INSERT INTO Movies (Title, Rating)\n",
    "    SELECT DISTINCT MTitle, Rating FROM DATASET;\n",
    "SELECT * FROM MOVIES;\n",
    "\n",
    "\n",
    "DELETE FROM Theaters;\n",
    "INSERT INTO Theaters (Name, Location, Phone)\n",
    "    SELECT DISTINCT TName, Location, Phone FROM DATASET;\n",
    "SELECT * FROM Theaters;\n",
    "\n",
    "\n",
    "DELETE FROM Artists;\n",
    "INSERT INTO Artists (Name)\n",
    "    SELECT DISTINCT CName FROM DATASET;\n",
    "SELECT * FROM Artists;\n",
    "\n",
    "\n",
    "DELETE FROM Shows;\n",
    "INSERT INTO Shows (ShowTime, MID, TID)\n",
    "    SELECT DISTINCT DATASET.ShowTime, MOVIES.MID, THEATERS.TID\n",
    "    FROM DATASET\n",
    "        JOIN MOVIES ON (MOVIES.Title = DATASET.MTitle)\n",
    "        JOIN THEATERS ON (THEATERS.Name = DATASET.TName);\n",
    "SELECT ShowTime, Title, Name FROM Shows JOIN Movies USING (MID) JOIN Theaters USING (TID);\n",
    "\n",
    "DELETE FROM Credit;\n",
    "INSERT INTO Credit (CCode, AID, MID)\n",
    "    SELECT DISTINCT DATASET.CCode, MOVIES.MID, ARTISTS.AID\n",
    "    FROM DATASET\n",
    "        JOIN ARTISTS ON (ARTISTS.NAME = DATASET.CName)\n",
    "        JOIN MOVIES ON (MOVIES.Title = DATASET.MTitle);\n",
    "SELECT * FROM CREDIT LIMIT 10;"
   ]
  },
  {
   "cell_type": "markdown",
   "metadata": {},
   "source": [
    "3. **Check your work.**  \n",
    "There are 9 theaters, 23 movies, 152 artists, 131 shows, and 161 credits."
   ]
  },
  {
   "cell_type": "code",
   "execution_count": null,
   "metadata": {},
   "outputs": [],
   "source": []
  },
  {
   "cell_type": "markdown",
   "metadata": {},
   "source": [
    "4. **Now check the source data.**  \n",
    "There are actually 13 duplicate rows in the original source data! Can you spot them? Write a SQL query that counts how many times each (MTitle, TName, Showtime, CCode, and CName) appears. Which ones appear more than once?"
   ]
  },
  {
   "cell_type": "code",
   "execution_count": null,
   "metadata": {},
   "outputs": [],
   "source": [
    "YOUR CODE HERE"
   ]
  },
  {
   "cell_type": "markdown",
   "metadata": {},
   "source": [
    "5. **Drop the `DATASET` table.**  \n",
    "We don't need it anymore. "
   ]
  },
  {
   "cell_type": "code",
   "execution_count": null,
   "metadata": {},
   "outputs": [],
   "source": []
  },
  {
   "cell_type": "markdown",
   "metadata": {},
   "source": [
    "6. **Save, commit, and push your work to GitHub.**  \n",
    "Use the commit summary comment \"Completed Part 3\"."
   ]
  },
  {
   "cell_type": "code",
   "execution_count": null,
   "metadata": {},
   "outputs": [],
   "source": []
  }
 ],
 "metadata": {
  "kernelspec": {
   "display_name": "Python 3",
   "language": "python",
   "name": "python3"
  },
  "language_info": {
   "codemirror_mode": {
    "name": "ipython",
    "version": 3
   },
   "file_extension": ".py",
   "mimetype": "text/x-python",
   "name": "python",
   "nbconvert_exporter": "python",
   "pygments_lexer": "ipython3",
   "version": "3.6.7"
  }
 },
 "nbformat": 4,
 "nbformat_minor": 2
}
