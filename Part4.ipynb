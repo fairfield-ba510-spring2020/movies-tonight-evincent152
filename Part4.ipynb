{
 "cells": [
  {
   "cell_type": "markdown",
   "metadata": {},
   "source": [
    "# Movies Tonight Part 4: A few SELECT queries \n",
    "__Use `%%sql` magic to write the queries listed below.__"
   ]
  },
  {
   "cell_type": "code",
   "execution_count": 1,
   "metadata": {
    "collapsed": true
   },
   "outputs": [
    {
     "data": {
      "text/plain": [
       "'Connected: @Movies.db'"
      ]
     },
     "execution_count": 1,
     "metadata": {},
     "output_type": "execute_result"
    }
   ],
   "source": [
    "# load %sql magic extension\n",
    "%load_ext sql\n",
    "\n",
    "# initialize a database connection; may have to adjust username and password \n",
    "%sql sqlite:///Movies.db"
   ]
  },
  {
   "cell_type": "markdown",
   "metadata": {},
   "source": [
    "**1. Write a select query that returns the MovieTitle, TheaterName, and Showtime for each movie showing.**  \n",
    "The query should use `JOIN` syntax as described in your textbook. Also, use aliases ( `… AS …` ) to make sure that column names match exactly what is asked for. "
   ]
  },
  {
   "cell_type": "code",
   "execution_count": 2,
   "metadata": {
    "collapsed": true
   },
   "outputs": [
    {
     "name": "stdout",
     "output_type": "stream",
     "text": [
      " * sqlite:///Movies.db\n",
      "Done.\n"
     ]
    },
    {
     "data": {
      "text/html": [
       "<table>\n",
       "    <tr>\n",
       "        <th>MovieTitle</th>\n",
       "        <th>TheaterName</th>\n",
       "        <th>Showtime</th>\n",
       "    </tr>\n",
       "</table>"
      ],
      "text/plain": [
       "[]"
      ]
     },
     "execution_count": 2,
     "metadata": {},
     "output_type": "execute_result"
    }
   ],
   "source": [
    "%%sql\n",
    "\n",
    "SELECT DISTINCT MOVIES.TITLE AS MovieTitle, THEATERS.NAME as TheaterName, SHOWS.SHOWTIME as Showtime\n",
    "FROM SHOWS\n",
    "    JOIN THEATERS USING (TID)\n",
    "    JOIN MOVIES USING (MID);"
   ]
  },
  {
   "cell_type": "markdown",
   "metadata": {},
   "source": [
    "**2. Write a select query to display the MovieTitle, TheaterName, and Showtime for each show after 7pm.** You can start with a copy of the previous query and then add a `WHERE` clause. "
   ]
  },
  {
   "cell_type": "markdown",
   "metadata": {},
   "source": [
    "Lookup sqlite.org manual for datetime format!"
   ]
  },
  {
   "cell_type": "code",
   "execution_count": 3,
   "metadata": {
    "collapsed": true
   },
   "outputs": [
    {
     "name": "stdout",
     "output_type": "stream",
     "text": [
      " * sqlite:///Movies.db\n",
      "Done.\n"
     ]
    },
    {
     "data": {
      "text/html": [
       "<table>\n",
       "    <tr>\n",
       "        <th>MovieTitle</th>\n",
       "        <th>TheaterName</th>\n",
       "        <th>Showtime</th>\n",
       "    </tr>\n",
       "</table>"
      ],
      "text/plain": [
       "[]"
      ]
     },
     "execution_count": 3,
     "metadata": {},
     "output_type": "execute_result"
    }
   ],
   "source": [
    "%%sql\n",
    "\n",
    "SELECT DISTINCT MOVIES.TITLE AS MovieTitle, THEATERS.NAME as TheaterName, SHOWS.SHOWTIME as Showtime\n",
    "FROM Shows\n",
    "    JOIN Theaters USING (TID)\n",
    "    JOIN Movies USING (MID)\n",
    "WHERE ShowTime > '07:00:00';"
   ]
  },
  {
   "cell_type": "markdown",
   "metadata": {},
   "source": [
    "**3. Write a select query to display the cast (actors only) of each movie.** The query should return the Movie Title, Actor Name, MID, and AID. "
   ]
  },
  {
   "cell_type": "code",
   "execution_count": 4,
   "metadata": {
    "collapsed": true
   },
   "outputs": [
    {
     "name": "stdout",
     "output_type": "stream",
     "text": [
      " * sqlite:///Movies.db\n",
      "Done.\n"
     ]
    },
    {
     "data": {
      "text/html": [
       "<table>\n",
       "    <tr>\n",
       "        <th>MID</th>\n",
       "        <th>Title</th>\n",
       "        <th>AID</th>\n",
       "        <th>Name</th>\n",
       "    </tr>\n",
       "</table>"
      ],
      "text/plain": [
       "[]"
      ]
     },
     "execution_count": 4,
     "metadata": {},
     "output_type": "execute_result"
    }
   ],
   "source": [
    "%%sql\n",
    "\n",
    "SELECT DISTINCT MOVIES.MID, MOVIES.TITLE, ARTISTS.AID, ARTISTS.NAME \n",
    "FROM Movies\n",
    "    JOIN Credit USING (MID)\n",
    "    JOIN Artists USING (AID)\n",
    "WHERE CREDIT.CCODE = \"A\"\n",
    "LIMIT 10;"
   ]
  },
  {
   "cell_type": "markdown",
   "metadata": {},
   "source": [
    "**4. Write a select query to display the number of distinct movies that each actor appears in.** The query should return the ActorName, MovieCount, and AID. You will need to use use a GROUP BY clause and the COUNT() function. "
   ]
  },
  {
   "cell_type": "code",
   "execution_count": 5,
   "metadata": {
    "collapsed": true
   },
   "outputs": [
    {
     "name": "stdout",
     "output_type": "stream",
     "text": [
      " * sqlite:///Movies.db\n",
      "Done.\n"
     ]
    },
    {
     "data": {
      "text/html": [
       "<table>\n",
       "    <tr>\n",
       "        <th>AID</th>\n",
       "        <th>ActorName</th>\n",
       "        <th>MovieCount</th>\n",
       "    </tr>\n",
       "</table>"
      ],
      "text/plain": [
       "[]"
      ]
     },
     "execution_count": 5,
     "metadata": {},
     "output_type": "execute_result"
    }
   ],
   "source": [
    "%%sql\n",
    "\n",
    "SELECT ARTISTS.AID, ARTISTS.NAME as ActorName, COUNT(DISTINCT MID) as MovieCount\n",
    "FROM Movies\n",
    "    JOIN Credit USING (MID)\n",
    "    JOIN Artists USING (AID)\n",
    "WHERE CREDIT.CCODE = \"A\"\n",
    "GROUP BY ARTISTS.AID, ARTISTS.NAME\n",
    "LIMIT 10;"
   ]
  },
  {
   "cell_type": "markdown",
   "metadata": {},
   "source": [
    "**5. Write a select query to display only the actors that appear in multiple movies.** The query should return the Actor Name, Movie Count, and AID. You can use the previous select query as a starting point. You will need to add a HAVING clause to do the restriction. "
   ]
  },
  {
   "cell_type": "code",
   "execution_count": 6,
   "metadata": {
    "collapsed": true
   },
   "outputs": [
    {
     "name": "stdout",
     "output_type": "stream",
     "text": [
      " * sqlite:///Movies.db\n",
      "Done.\n"
     ]
    },
    {
     "data": {
      "text/html": [
       "<table>\n",
       "    <tr>\n",
       "        <th>AID</th>\n",
       "        <th>ActorName</th>\n",
       "        <th>MovieCount</th>\n",
       "    </tr>\n",
       "</table>"
      ],
      "text/plain": [
       "[]"
      ]
     },
     "execution_count": 6,
     "metadata": {},
     "output_type": "execute_result"
    }
   ],
   "source": [
    "%%sql\n",
    "\n",
    "SELECT ARTISTS.AID, ARTISTS.NAME as ActorName, COUNT(DISTINCT MID) as MovieCount\n",
    "FROM Movies\n",
    "    JOIN Credit USING (MID)\n",
    "    JOIN Artists USING (AID)\n",
    "WHERE CREDIT.CCODE = \"A\"\n",
    "GROUP BY ARTISTS.AID, ARTISTS.NAME\n",
    "HAVING MovieCount > 1;"
   ]
  },
  {
   "cell_type": "markdown",
   "metadata": {},
   "source": [
    "**6. Write a select query to display directors that also act in their movies.** The query should return the ArtistName, NumDirectorCredits, NumActorCredits, NumDirectorActorCredits. Each count should be calculated separately using a subquery. Note: NumDirectorActorCredits should be greater than 0."
   ]
  },
  {
   "cell_type": "code",
   "execution_count": 7,
   "metadata": {},
   "outputs": [
    {
     "name": "stdout",
     "output_type": "stream",
     "text": [
      " * sqlite:///Movies.db\n",
      "Done.\n"
     ]
    },
    {
     "data": {
      "text/html": [
       "<table>\n",
       "    <tr>\n",
       "        <th>ArtistName</th>\n",
       "        <th>Title</th>\n",
       "        <th>NumCCODES</th>\n",
       "    </tr>\n",
       "</table>"
      ],
      "text/plain": [
       "[]"
      ]
     },
     "execution_count": 7,
     "metadata": {},
     "output_type": "execute_result"
    }
   ],
   "source": [
    "%%sql\n",
    "\n",
    "SELECT ARTISTS.NAME as ArtistName, MOVIES.TITLE, COUNT(CCODE) as NumCCODES\n",
    "FROM Artists\n",
    "    JOIN Credit USING (AID)\n",
    "    JOIN Movies USING (MID)\n",
    "WHERE Artists.Name = 'Stanley Tucci'\n",
    "GROUP BY ARTISTS.AID, MOVIES.MID, ARTISTS.NAME, MOVIES.TITLE;"
   ]
  },
  {
   "cell_type": "markdown",
   "metadata": {},
   "source": [
    "### Another way! (Join a table with itself!)\n",
    "    The following code looks for actors AND directors (using a cross join)"
   ]
  },
  {
   "cell_type": "code",
   "execution_count": 8,
   "metadata": {},
   "outputs": [
    {
     "name": "stdout",
     "output_type": "stream",
     "text": [
      " * sqlite:///Movies.db\n",
      "Done.\n"
     ]
    },
    {
     "data": {
      "text/html": [
       "<table>\n",
       "    <tr>\n",
       "        <th>ArtistName</th>\n",
       "        <th>Title</th>\n",
       "        <th>c1code</th>\n",
       "        <th>c2code</th>\n",
       "    </tr>\n",
       "</table>"
      ],
      "text/plain": [
       "[]"
      ]
     },
     "execution_count": 8,
     "metadata": {},
     "output_type": "execute_result"
    }
   ],
   "source": [
    "%%sql\n",
    "\n",
    "SELECT Artists.Name as ArtistName, MOVIES.TITLE, c1.CCODE as c1code, c2.CCODE as c2code\n",
    "FROM CREDIT as c1\n",
    "    JOIN CREDIT as c2 USING (AID, MID)\n",
    "    JOIN Artists USING (AID)\n",
    "    JOIN Movies USING (MID)\n",
    "WHERE c1code = 'A' and c2code = 'D';"
   ]
  },
  {
   "cell_type": "code",
   "execution_count": 9,
   "metadata": {},
   "outputs": [
    {
     "name": "stdout",
     "output_type": "stream",
     "text": [
      " * sqlite:///Movies.db\n",
      "Done.\n"
     ]
    },
    {
     "data": {
      "text/html": [
       "<table>\n",
       "    <tr>\n",
       "        <th>type</th>\n",
       "        <th>name</th>\n",
       "        <th>tbl_name</th>\n",
       "        <th>rootpage</th>\n",
       "        <th>sql</th>\n",
       "    </tr>\n",
       "    <tr>\n",
       "        <td>table</td>\n",
       "        <td>Theaters</td>\n",
       "        <td>Theaters</td>\n",
       "        <td>2</td>\n",
       "        <td>CREATE TABLE Theaters (<br>    TID INTEGER PRIMARY KEY, <br>    Name TEXT NOT NULL,<br>    Location TEXT NOT NULL, <br>    Phone TEXT NOT NULL<br>)</td>\n",
       "    </tr>\n",
       "    <tr>\n",
       "        <td>table</td>\n",
       "        <td>Movies</td>\n",
       "        <td>Movies</td>\n",
       "        <td>3</td>\n",
       "        <td>CREATE TABLE Movies (<br>    MID INTEGER PRIMARY KEY,<br>    Title TEXT NOT NULL,<br>    Rating TEXT<br>)</td>\n",
       "    </tr>\n",
       "    <tr>\n",
       "        <td>table</td>\n",
       "        <td>Artists</td>\n",
       "        <td>Artists</td>\n",
       "        <td>4</td>\n",
       "        <td>CREATE TABLE Artists (<br>    AID INTEGER PRIMARY KEY,<br>    Name TEXT NOT NULL,<br>    Bio TEXT,<br>    Headshot BLOB<br>)</td>\n",
       "    </tr>\n",
       "    <tr>\n",
       "        <td>table</td>\n",
       "        <td>Shows</td>\n",
       "        <td>Shows</td>\n",
       "        <td>5</td>\n",
       "        <td>CREATE TABLE Shows (<br>    SID INTEGER PRIMARY KEY, <br>    ShowTime TEXT NOT NULL,<br>    MID INTEGER NOT NULL, <br>    TID INTEGER NOT NULL,<br>    FOREIGN KEY (TID) REFERENCES TheaterS(TID),<br>    FOREIGN KEY (MID) REFERENCES Movies(MID)<br>)</td>\n",
       "    </tr>\n",
       "    <tr>\n",
       "        <td>table</td>\n",
       "        <td>Credit</td>\n",
       "        <td>Credit</td>\n",
       "        <td>6</td>\n",
       "        <td>CREATE TABLE Credit (<br>    CID INTEGER PRIMARY KEY, <br>    AID INTEGER NOT NULL,<br>    MID INTEGER NOT NULL,<br>    CCode TEXT NOT NULL,<br>    FOREIGN KEY (AID) REFERENCES Artist(AID),<br>    FOREIGN KEY (MID) REFERENCES Movies(MID)<br>)</td>\n",
       "    </tr>\n",
       "</table>"
      ],
      "text/plain": [
       "[('table', 'Theaters', 'Theaters', 2, 'CREATE TABLE Theaters (\\n    TID INTEGER PRIMARY KEY, \\n    Name TEXT NOT NULL,\\n    Location TEXT NOT NULL, \\n    Phone TEXT NOT NULL\\n)'),\n",
       " ('table', 'Movies', 'Movies', 3, 'CREATE TABLE Movies (\\n    MID INTEGER PRIMARY KEY,\\n    Title TEXT NOT NULL,\\n    Rating TEXT\\n)'),\n",
       " ('table', 'Artists', 'Artists', 4, 'CREATE TABLE Artists (\\n    AID INTEGER PRIMARY KEY,\\n    Name TEXT NOT NULL,\\n    Bio TEXT,\\n    Headshot BLOB\\n)'),\n",
       " ('table', 'Shows', 'Shows', 5, 'CREATE TABLE Shows (\\n    SID INTEGER PRIMARY KEY, \\n    ShowTime TEXT NOT NULL,\\n    MID INTEGER NOT NULL, \\n    TID INTEGER NOT NULL,\\n    FOREIGN KEY (TID) REFERENCES TheaterS(TID),\\n    FOREIGN KEY (MID) REFERENCES Movies(MID)\\n)'),\n",
       " ('table', 'Credit', 'Credit', 6, 'CREATE TABLE Credit (\\n    CID INTEGER PRIMARY KEY, \\n    AID INTEGER NOT NULL,\\n    MID INTEGER NOT NULL,\\n    CCode TEXT NOT NULL,\\n    FOREIGN KEY (AID) REFERENCES Artist(AID),\\n    FOREIGN KEY (MID) REFERENCES Movies(MID)\\n)')]"
      ]
     },
     "execution_count": 9,
     "metadata": {},
     "output_type": "execute_result"
    }
   ],
   "source": [
    "%%sql\n",
    "SELECT * FROM sqlite_master;"
   ]
  },
  {
   "cell_type": "code",
   "execution_count": null,
   "metadata": {},
   "outputs": [],
   "source": []
  }
 ],
 "metadata": {
  "kernelspec": {
   "display_name": "Python 3",
   "language": "python",
   "name": "python3"
  },
  "language_info": {
   "codemirror_mode": {
    "name": "ipython",
    "version": 3
   },
   "file_extension": ".py",
   "mimetype": "text/x-python",
   "name": "python",
   "nbconvert_exporter": "python",
   "pygments_lexer": "ipython3",
   "version": "3.6.7"
  }
 },
 "nbformat": 4,
 "nbformat_minor": 2
}
