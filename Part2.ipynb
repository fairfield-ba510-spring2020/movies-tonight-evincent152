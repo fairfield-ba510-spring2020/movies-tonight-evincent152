{
 "cells": [
  {
   "cell_type": "markdown",
   "metadata": {},
   "source": [
    "# Movies Tonight Part 2: SQL DDL"
   ]
  },
  {
   "cell_type": "markdown",
   "metadata": {},
   "source": [
    "look at slides from L6"
   ]
  },
  {
   "cell_type": "code",
   "execution_count": 1,
   "metadata": {},
   "outputs": [],
   "source": [
    "%load_ext sql"
   ]
  },
  {
   "cell_type": "markdown",
   "metadata": {},
   "source": [
    "1. **Create / Reset a SQLite database.** \n",
    "    - Name the database `Movies.db`.\n",
    "    - Add `DROP TABLE IF EXISTS` queries make sure you have a blank database. \n",
    "    - Use SQL comments to ay what each line does"
   ]
  },
  {
   "cell_type": "code",
   "execution_count": 3,
   "metadata": {},
   "outputs": [
    {
     "data": {
      "text/plain": [
       "'Connected: @Movies.db'"
      ]
     },
     "execution_count": 3,
     "metadata": {},
     "output_type": "execute_result"
    }
   ],
   "source": [
    "%sql sqlite:///Movies.db"
   ]
  },
  {
   "cell_type": "markdown",
   "metadata": {},
   "source": [
    "2. **Use SQL Create Table commands to implement the table designs you created in Part 1.** \n",
    "    - Take care with your data types! (You do not need to populate them yet. That’s Part 3.) \n",
    "    - Use a surrogate key for the primary key of each table. The data type descriptor is `INTEGER PRIMARY KEY`.\n",
    "    - If you make a mistake, recreate the database from scratch using your code from step 1 above. "
   ]
  },
  {
   "cell_type": "code",
   "execution_count": 4,
   "metadata": {},
   "outputs": [
    {
     "ename": "SyntaxError",
     "evalue": "invalid syntax (<ipython-input-4-be43aab166e4>, line 1)",
     "output_type": "error",
     "traceback": [
      "\u001b[0;36m  File \u001b[0;32m\"<ipython-input-4-be43aab166e4>\"\u001b[0;36m, line \u001b[0;32m1\u001b[0m\n\u001b[0;31m    YOUR CODE HERE\u001b[0m\n\u001b[0m            ^\u001b[0m\n\u001b[0;31mSyntaxError\u001b[0m\u001b[0;31m:\u001b[0m invalid syntax\n"
     ]
    }
   ],
   "source": [
    "%%sql\n",
    "/* showtime, credit not done */\n",
    "\n",
    "DROP TABLE IF EXISTS TheaterID\n",
    "CREATE TABLE Theater (\n",
    "    TheaterID INTEGER PRIMARY KEY, \n",
    "    Location TEXT NOT NULL, \n",
    "    Phone INTEGER NOT NULL\n",
    "    Name TEXT NOT NULL);\n",
    "\n",
    "DROP TABLE IF EXISTS Showtime\n",
    "CREATE TABLE Showtime (\n",
    "    TheaterID, \n",
    "    MovieID, \n",
    "    Time TEXT NOT NULL)\n",
    "    FOREIGN KEY (TheaterID) REFERENCES Theater(TheaterID)\n",
    "    FOREIGN KEY (MovieID) REFERENCES Movies(MovieID);\n",
    "\n",
    "DROP TABLE IF EXISTS Movies\n",
    "CREATE TABLE Movies (\n",
    "    MovieID INTEGER PRIMARY KEY,\n",
    "    Title TEXT NOT NULL,\n",
    "    Rating TEXT);    \n",
    "\n",
    "DROP TABLE IF EXISTS Credit\n",
    "CREATE TABLE Credit (\n",
    "    MovieID, \n",
    "    ArtistID)\n",
    "    FOREIGN KEY (MovieID) REFERENCES Movies(MovieID)\n",
    "    FOREIGN KEY (ArtistID) REFERENCES Artist(ArtistID);\n",
    "    \n",
    "DROP TABLE IF EXISTS Artist\n",
    "CREATE TABLE Artist (\n",
    "    ArtistID INTEGER PRIMARY KEY,\n",
    "    Name TEXT NOT NULL,\n",
    "    CCode TEXT NOT NULL);"
   ]
  },
  {
   "cell_type": "markdown",
   "metadata": {},
   "source": [
    "3. **Use SQL ALTER TABLE statements to add the foreign key constraints from your ERD.**  \n",
    "Take care that each constraint has to have a unique name."
   ]
  },
  {
   "cell_type": "markdown",
   "metadata": {},
   "source": [
    "4. **Save, add, commit, and push your work to GitHub.**  \n",
    "Use the commit summary comment \"Completed Part 2\"."
   ]
  },
  {
   "cell_type": "code",
   "execution_count": null,
   "metadata": {},
   "outputs": [],
   "source": [
    "%%sql"
   ]
  }
 ],
 "metadata": {
  "kernelspec": {
   "display_name": "Python 3",
   "language": "python",
   "name": "python3"
  },
  "language_info": {
   "codemirror_mode": {
    "name": "ipython",
    "version": 3
   },
   "file_extension": ".py",
   "mimetype": "text/x-python",
   "name": "python",
   "nbconvert_exporter": "python",
   "pygments_lexer": "ipython3",
   "version": "3.6.7"
  }
 },
 "nbformat": 4,
 "nbformat_minor": 2
}
