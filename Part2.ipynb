{
 "cells": [
  {
   "cell_type": "markdown",
   "metadata": {},
   "source": [
    "# Movies Tonight Part 2: SQL DDL"
   ]
  },
  {
   "cell_type": "markdown",
   "metadata": {},
   "source": [
    "look at slides from L6"
   ]
  },
  {
   "cell_type": "code",
   "execution_count": 16,
   "metadata": {},
   "outputs": [
    {
     "name": "stdout",
     "output_type": "stream",
     "text": [
      "The sql extension is already loaded. To reload it, use:\n",
      "  %reload_ext sql\n"
     ]
    }
   ],
   "source": [
    "%load_ext sql"
   ]
  },
  {
   "cell_type": "markdown",
   "metadata": {},
   "source": [
    "1. **Create / Reset a SQLite database.** \n",
    "    - Name the database `Movies.db`.\n",
    "    - Add `DROP TABLE IF EXISTS` queries make sure you have a blank database. \n",
    "    - Use SQL comments to ay what each line does"
   ]
  },
  {
   "cell_type": "code",
   "execution_count": 17,
   "metadata": {},
   "outputs": [
    {
     "data": {
      "text/plain": [
       "'Connected: @Movies.db'"
      ]
     },
     "execution_count": 17,
     "metadata": {},
     "output_type": "execute_result"
    }
   ],
   "source": [
    "%sql sqlite:///Movies.db"
   ]
  },
  {
   "cell_type": "markdown",
   "metadata": {},
   "source": [
    "2. **Use SQL Create Table commands to implement the table designs you created in Part 1.** \n",
    "    - Take care with your data types! (You do not need to populate them yet. That’s Part 3.) \n",
    "    - Use a surrogate key for the primary key of each table. The data type descriptor is `INTEGER PRIMARY KEY`.\n",
    "    - If you make a mistake, recreate the database from scratch using your code from step 1 above. "
   ]
  },
  {
   "cell_type": "markdown",
   "metadata": {},
   "source": [
    "- REMEMBER: create tables with independent entities (without foreign keys AKA crows feet in ERDs) before dependent tables (show table)\n",
    "- REMEMBER: crow's feet in ERD = at least ONE entity (one movie at each show time)"
   ]
  },
  {
   "cell_type": "code",
   "execution_count": 19,
   "metadata": {},
   "outputs": [
    {
     "name": "stdout",
     "output_type": "stream",
     "text": [
      " * sqlite:///Movies.db\n",
      "Done.\n",
      "Done.\n",
      "Done.\n",
      "Done.\n",
      "Done.\n",
      "Done.\n",
      "Done.\n",
      "Done.\n",
      "Done.\n",
      "Done.\n",
      "Done.\n"
     ]
    },
    {
     "data": {
      "text/plain": [
       "[]"
      ]
     },
     "execution_count": 19,
     "metadata": {},
     "output_type": "execute_result"
    }
   ],
   "source": [
    "%%sql\n",
    "\n",
    "DROP TABLE IF EXISTS Theaters;\n",
    "CREATE TABLE Theaters (\n",
    "    TID INTEGER PRIMARY KEY, \n",
    "    Name TEXT NOT NULL,\n",
    "    Location TEXT NOT NULL, \n",
    "    Phone TEXT NOT NULL\n",
    ");\n",
    "\n",
    "DROP TABLE IF EXISTS Movies;\n",
    "CREATE TABLE Movies (\n",
    "    MID INTEGER PRIMARY KEY,\n",
    "    Title TEXT NOT NULL,\n",
    "    Rating TEXT\n",
    ");\n",
    "\n",
    "DROP TABLE IF EXISTS Artists;\n",
    "CREATE TABLE Artists (\n",
    "    AID INTEGER PRIMARY KEY,\n",
    "    Name TEXT NOT NULL,\n",
    "    Bio TEXT,\n",
    "    Headshot BLOB\n",
    ");\n",
    "\n",
    "DROP TABLE IF EXISTS Shows;\n",
    "CREATE TABLE Shows (\n",
    "    SID INTEGER PRIMARY KEY, \n",
    "    ShowTime TEXT NOT NULL,\n",
    "    MID INTEGER NOT NULL, \n",
    "    TID INTEGER NOT NULL,\n",
    "    FOREIGN KEY (TID) REFERENCES TheaterS(TID),\n",
    "    FOREIGN KEY (MID) REFERENCES Movies(MID)\n",
    ");\n",
    "\n",
    "DROP TABLE IF EXISTS Credits;\n",
    "DROP TABLE IF EXISTS Credit;\n",
    "CREATE TABLE Credit (\n",
    "    CID INTEGER PRIMARY KEY, \n",
    "    AID INTEGER NOT NULL,\n",
    "    MID INTEGER NOT NULL,\n",
    "    CCode TEXT NOT NULL,\n",
    "    FOREIGN KEY (AID) REFERENCES Artist(AID),\n",
    "    FOREIGN KEY (MID) REFERENCES Movies(MID)\n",
    ");"
   ]
  },
  {
   "cell_type": "markdown",
   "metadata": {},
   "source": [
    "3. **Use SQL ALTER TABLE statements to add the foreign key constraints from your ERD.**  \n",
    "Take care that each constraint has to have a unique name."
   ]
  },
  {
   "cell_type": "code",
   "execution_count": null,
   "metadata": {},
   "outputs": [],
   "source": []
  },
  {
   "cell_type": "markdown",
   "metadata": {},
   "source": [
    "4. **Save, add, commit, and push your work to GitHub.**  \n",
    "Use the commit summary comment \"Completed Part 2\"."
   ]
  },
  {
   "cell_type": "code",
   "execution_count": null,
   "metadata": {},
   "outputs": [],
   "source": [
    "%%sql"
   ]
  }
 ],
 "metadata": {
  "kernelspec": {
   "display_name": "Python 3",
   "language": "python",
   "name": "python3"
  },
  "language_info": {
   "codemirror_mode": {
    "name": "ipython",
    "version": 3
   },
   "file_extension": ".py",
   "mimetype": "text/x-python",
   "name": "python",
   "nbconvert_exporter": "python",
   "pygments_lexer": "ipython3",
   "version": "3.6.7"
  }
 },
 "nbformat": 4,
 "nbformat_minor": 2
}
